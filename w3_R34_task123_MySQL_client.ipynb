{
 "cells": [
  {
   "cell_type": "markdown",
   "id": "9277e3a5",
   "metadata": {},
   "source": [
    "Task_1"
   ]
  },
  {
   "cell_type": "code",
   "execution_count": 1,
   "id": "11595c17",
   "metadata": {},
   "outputs": [],
   "source": [
    "import mysql.connector as connector"
   ]
  },
  {
   "cell_type": "markdown",
   "id": "bc89882c",
   "metadata": {},
   "source": [
    "note: user and password are removed in this version"
   ]
  },
  {
   "cell_type": "code",
   "execution_count": 4,
   "id": "05f8df6b",
   "metadata": {},
   "outputs": [],
   "source": [
    "connection = connector.connect(user=\"***\", password = \"***\", db = \"LittleLemonDM\")"
   ]
  },
  {
   "cell_type": "code",
   "execution_count": 5,
   "id": "dfa49f7e",
   "metadata": {},
   "outputs": [],
   "source": [
    "cursor = connection.cursor()"
   ]
  },
  {
   "cell_type": "markdown",
   "id": "cf5dfdd0",
   "metadata": {},
   "source": [
    "Task_2"
   ]
  },
  {
   "cell_type": "code",
   "execution_count": 6,
   "id": "a702f6ba",
   "metadata": {},
   "outputs": [
    {
     "name": "stdout",
     "output_type": "stream",
     "text": [
      "Tables are :\n",
      "('Bookings',)\n",
      "('Customer',)\n",
      "('Menu',)\n",
      "('MenuItems',)\n",
      "('Order_delivery_status',)\n",
      "('Orders',)\n",
      "('OrdersView',)\n",
      "('Staff',)\n"
     ]
    }
   ],
   "source": [
    "show_tables_query = \"SHOW tables\"\n",
    "cursor.execute(show_tables_query)\n",
    "result = cursor.fetchall()\n",
    "print(\"Tables are :\")\n",
    "for i in result:\n",
    "    print(i)"
   ]
  },
  {
   "cell_type": "markdown",
   "id": "dc31839b",
   "metadata": {},
   "source": [
    "Task_3"
   ]
  },
  {
   "cell_type": "code",
   "execution_count": 8,
   "id": "847d50d7",
   "metadata": {},
   "outputs": [
    {
     "name": "stdout",
     "output_type": "stream",
     "text": [
      "('FullName', 'ContactNumber', 'Email', 'TotalCost')\n"
     ]
    }
   ],
   "source": [
    "q = \"\"\"\n",
    "select FullName, ContactNumber, Email, TotalCost\n",
    "from Customer inner join Orders on Customer.CustomerID = Orders.CustomerID\n",
    "where TotalCost > 60;\n",
    "\"\"\"\n",
    "cursor.execute(q)\n",
    "result = cursor.fetchall()\n",
    "col = cursor.column_names\n",
    "print(col)\n",
    "for i in result:\n",
    "    print(i)"
   ]
  },
  {
   "cell_type": "code",
   "execution_count": 9,
   "id": "e4708db9",
   "metadata": {},
   "outputs": [
    {
     "data": {
      "text/plain": [
       "True"
      ]
     },
     "execution_count": 9,
     "metadata": {},
     "output_type": "execute_result"
    }
   ],
   "source": [
    "cursor.close()"
   ]
  },
  {
   "cell_type": "code",
   "execution_count": 10,
   "id": "87e6b886",
   "metadata": {},
   "outputs": [],
   "source": [
    "connection.close()"
   ]
  },
  {
   "cell_type": "code",
   "execution_count": null,
   "id": "9b67df42",
   "metadata": {},
   "outputs": [],
   "source": []
  },
  {
   "cell_type": "code",
   "execution_count": null,
   "id": "2429c3b0",
   "metadata": {},
   "outputs": [],
   "source": []
  }
 ],
 "metadata": {
  "kernelspec": {
   "display_name": "Python 3 (ipykernel)",
   "language": "python",
   "name": "python3"
  },
  "language_info": {
   "codemirror_mode": {
    "name": "ipython",
    "version": 3
   },
   "file_extension": ".py",
   "mimetype": "text/x-python",
   "name": "python",
   "nbconvert_exporter": "python",
   "pygments_lexer": "ipython3",
   "version": "3.10.6"
  }
 },
 "nbformat": 4,
 "nbformat_minor": 5
}
